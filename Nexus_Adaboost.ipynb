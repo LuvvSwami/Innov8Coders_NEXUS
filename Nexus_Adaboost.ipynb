{
  "nbformat": 4,
  "nbformat_minor": 0,
  "metadata": {
    "colab": {
      "provenance": [],
      "gpuType": "T4"
    },
    "kernelspec": {
      "name": "python3",
      "display_name": "Python 3"
    },
    "language_info": {
      "name": "python"
    },
    "accelerator": "GPU"
  },
  "cells": [
    {
      "cell_type": "code",
      "execution_count": null,
      "metadata": {
        "colab": {
          "base_uri": "https://localhost:8080/"
        },
        "id": "CDVjbB6asvn8",
        "outputId": "7345066b-b46b-4e67-8720-e6f6d3ebaf3a"
      },
      "outputs": [
        {
          "output_type": "stream",
          "name": "stdout",
          "text": [
            "Collecting opendatasets\n",
            "  Downloading opendatasets-0.1.22-py3-none-any.whl.metadata (9.2 kB)\n",
            "Requirement already satisfied: tqdm in /usr/local/lib/python3.10/dist-packages (from opendatasets) (4.66.5)\n",
            "Requirement already satisfied: kaggle in /usr/local/lib/python3.10/dist-packages (from opendatasets) (1.6.17)\n",
            "Requirement already satisfied: click in /usr/local/lib/python3.10/dist-packages (from opendatasets) (8.1.7)\n",
            "Requirement already satisfied: six>=1.10 in /usr/local/lib/python3.10/dist-packages (from kaggle->opendatasets) (1.16.0)\n",
            "Requirement already satisfied: certifi>=2023.7.22 in /usr/local/lib/python3.10/dist-packages (from kaggle->opendatasets) (2024.8.30)\n",
            "Requirement already satisfied: python-dateutil in /usr/local/lib/python3.10/dist-packages (from kaggle->opendatasets) (2.8.2)\n",
            "Requirement already satisfied: requests in /usr/local/lib/python3.10/dist-packages (from kaggle->opendatasets) (2.32.3)\n",
            "Requirement already satisfied: python-slugify in /usr/local/lib/python3.10/dist-packages (from kaggle->opendatasets) (8.0.4)\n",
            "Requirement already satisfied: urllib3 in /usr/local/lib/python3.10/dist-packages (from kaggle->opendatasets) (2.2.3)\n",
            "Requirement already satisfied: bleach in /usr/local/lib/python3.10/dist-packages (from kaggle->opendatasets) (6.1.0)\n",
            "Requirement already satisfied: webencodings in /usr/local/lib/python3.10/dist-packages (from bleach->kaggle->opendatasets) (0.5.1)\n",
            "Requirement already satisfied: text-unidecode>=1.3 in /usr/local/lib/python3.10/dist-packages (from python-slugify->kaggle->opendatasets) (1.3)\n",
            "Requirement already satisfied: charset-normalizer<4,>=2 in /usr/local/lib/python3.10/dist-packages (from requests->kaggle->opendatasets) (3.3.2)\n",
            "Requirement already satisfied: idna<4,>=2.5 in /usr/local/lib/python3.10/dist-packages (from requests->kaggle->opendatasets) (3.10)\n",
            "Downloading opendatasets-0.1.22-py3-none-any.whl (15 kB)\n",
            "Installing collected packages: opendatasets\n",
            "Successfully installed opendatasets-0.1.22\n"
          ]
        }
      ],
      "source": [
        "!pip install opendatasets"
      ]
    },
    {
      "cell_type": "code",
      "source": [
        "import pandas as pd\n",
        "import numpy as np\n",
        "from sklearn.tree import DecisionTreeClassifier\n",
        "from sklearn.preprocessing import OneHotEncoder\n",
        "from sklearn.model_selection import train_test_split\n",
        "from sklearn.ensemble import AdaBoostClassifier\n",
        "from sklearn.metrics import f1_score, accuracy_score, precision_score, recall_score, classification_report\n"
      ],
      "metadata": {
        "id": "9TB8GAd4tHJ0"
      },
      "execution_count": 8,
      "outputs": []
    },
    {
      "cell_type": "markdown",
      "source": [],
      "metadata": {
        "id": "v9CaT2U-GJAg"
      }
    },
    {
      "cell_type": "code",
      "source": [
        "od.download('https://www.kaggle.com/competitions/nexus-by-djs-nsdc-ultraceuticals/data?select=train.csv')"
      ],
      "metadata": {
        "colab": {
          "base_uri": "https://localhost:8080/"
        },
        "id": "qGwoLnH-tl6_",
        "outputId": "57956434-780b-46f5-8308-5137ab4916c1"
      },
      "execution_count": null,
      "outputs": [
        {
          "output_type": "stream",
          "name": "stdout",
          "text": [
            "Please provide your Kaggle credentials to download this dataset. Learn more: http://bit.ly/kaggle-creds\n",
            "Your Kaggle username: luvvswami\n",
            "Your Kaggle Key: ··········\n",
            "Downloading nexus-by-djs-nsdc-ultraceuticals.zip to ./nexus-by-djs-nsdc-ultraceuticals\n"
          ]
        },
        {
          "output_type": "stream",
          "name": "stderr",
          "text": [
            "100%|██████████| 149M/149M [00:02<00:00, 68.6MB/s]\n"
          ]
        },
        {
          "output_type": "stream",
          "name": "stdout",
          "text": [
            "\n",
            "Extracting archive ./nexus-by-djs-nsdc-ultraceuticals/nexus-by-djs-nsdc-ultraceuticals.zip to ./nexus-by-djs-nsdc-ultraceuticals\n"
          ]
        }
      ]
    },
    {
      "cell_type": "code",
      "source": [
        "df=pd.read_csv('/content/train.csv')"
      ],
      "metadata": {
        "id": "X0EeBqeItqOx"
      },
      "execution_count": 9,
      "outputs": []
    },
    {
      "cell_type": "code",
      "source": [
        "input_cols=['DRUGTYPE','Drug_high_status', 'DRUGNAME', 'Disease_of_highest_status','Drug_Status','GENENAME','BIOCLASS','SEQUENCE', 'Disease']\n",
        "target_cols=['Target_Status']"
      ],
      "metadata": {
        "id": "WiwwXA8HtySJ"
      },
      "execution_count": 10,
      "outputs": []
    },
    {
      "cell_type": "code",
      "source": [
        "encoder=OneHotEncoder(handle_unknown='ignore')\n",
        "encoder.fit(df[input_cols])\n",
        "encoded_cols=encoder.transform(df[input_cols])"
      ],
      "metadata": {
        "id": "vLhREuicu5Eg"
      },
      "execution_count": 11,
      "outputs": []
    },
    {
      "cell_type": "code",
      "source": [
        "x_train, x_test, y_train, y_test = train_test_split(encoded_cols, df[target_cols], test_size=0.2, random_state=42)"
      ],
      "metadata": {
        "id": "pCRsQP8Xt2HY"
      },
      "execution_count": 12,
      "outputs": []
    },
    {
      "cell_type": "code",
      "source": [
        "base_model = DecisionTreeClassifier(max_depth=30)\n",
        "adaboost_model = AdaBoostClassifier(estimator=base_model, n_estimators=1500, algorithm='SAMME', random_state=42)\n",
        "adaboost_model.fit(x_train, y_train.values.ravel())\n",
        "y_pred = adaboost_model.predict(x_test)"
      ],
      "metadata": {
        "id": "gBZTGgcmt440"
      },
      "execution_count": 13,
      "outputs": []
    },
    {
      "cell_type": "code",
      "source": [
        "print(\"Accuracy:\", accuracy_score(y_test, y_pred))\n",
        "print(\"Recall:\", recall_score(y_test, y_pred,average='micro'))\n",
        "print(\"Precision:\", precision_score(y_test, y_pred,average='micro'))\n",
        "print(\"F1_Score:\", f1_score(y_test, y_pred,average='micro'))\n",
        "print(\"\\nClassification Report:\\n\", classification_report(y_test, y_pred))"
      ],
      "metadata": {
        "id": "A5T03EOOufh4",
        "colab": {
          "base_uri": "https://localhost:8080/"
        },
        "outputId": "9f8dfa77-2993-486f-f202-0866ca954a25"
      },
      "execution_count": 14,
      "outputs": [
        {
          "output_type": "stream",
          "name": "stdout",
          "text": [
            "Accuracy: 0.9887723994349022\n",
            "Recall: 0.9887723994349022\n",
            "Precision: 0.9887723994349022\n",
            "F1_Score: 0.9887723994349022\n",
            "\n",
            "Classification Report:\n",
            "                                  precision    recall  f1-score   support\n",
            "\n",
            "          Application submitted       1.00      0.92      0.96        13\n",
            "                       Approved       0.99      0.99      0.99      6168\n",
            "         Approved (orphan drug)       1.00      1.00      1.00        32\n",
            "                  BLA submitted       1.00      1.00      1.00         1\n",
            "                 Clinical trial       0.97      0.96      0.96        70\n",
            "        Discontinued in Phase 1       1.00      1.00      1.00       475\n",
            "      Discontinued in Phase 1/2       1.00      0.92      0.96        24\n",
            "        Discontinued in Phase 2       1.00      1.00      1.00      1177\n",
            "      Discontinued in Phase 2/3       1.00      0.82      0.90        11\n",
            "       Discontinued in Phase 2b       1.00      1.00      1.00         3\n",
            "        Discontinued in Phase 3       1.00      1.00      1.00       506\n",
            "        Discontinued in Phase 4       1.00      1.00      1.00         4\n",
            "Discontinued in Preregistration       1.00      1.00      1.00        20\n",
            "                  IND submitted       1.00      1.00      1.00        16\n",
            "                  Investigative       1.00      0.99      1.00      1866\n",
            "                       Patented       1.00      1.00      1.00       628\n",
            "                        Phase 0       1.00      1.00      1.00         3\n",
            "                        Phase 1       0.99      0.98      0.98      3379\n",
            "                      Phase 1/2       0.95      0.95      0.95      1214\n",
            "                     Phase 1/2a       1.00      1.00      1.00         4\n",
            "                       Phase 1b       1.00      1.00      1.00        39\n",
            "                        Phase 2       0.99      1.00      0.99      5858\n",
            "                      Phase 2/3       0.95      0.97      0.96       283\n",
            "                       Phase 2a       1.00      1.00      1.00        32\n",
            "                       Phase 2b       1.00      1.00      1.00         7\n",
            "                        Phase 3       0.98      0.98      0.98      3132\n",
            "                        Phase 4       1.00      0.99      1.00       102\n",
            "                    Preclinical       0.99      0.98      0.99       393\n",
            "                Preregistration       1.00      1.00      1.00        50\n",
            "                     Registered       1.00      1.00      1.00        23\n",
            "                     Terminated       1.00      0.99      1.00      1058\n",
            "          Withdrawn from market       1.00      1.00      1.00       307\n",
            "\n",
            "                       accuracy                           0.99     26898\n",
            "                      macro avg       0.99      0.98      0.99     26898\n",
            "                   weighted avg       0.99      0.99      0.99     26898\n",
            "\n"
          ]
        }
      ]
    },
    {
      "cell_type": "code",
      "source": [],
      "metadata": {
        "id": "WFNQBnQeA-2O"
      },
      "execution_count": null,
      "outputs": []
    },
    {
      "source": [
        "from sklearn.model_selection import GridSearchCV\n",
        "\n",
        "param_grid = {\n",
        "    'criterion': ['gini', 'entropy'],\n",
        "    'max_depth': [None, 10, 20, 30],\n",
        "    'min_samples_split': [2, 5, 10],\n",
        "    'min_samples_leaf': [1, 2, 4]\n",
        "}\n",
        "\n",
        "grid_search = GridSearchCV(estimator=DecisionTreeClassifier(), param_grid=param_grid, cv=5)\n",
        "grid_search.fit(x_train, y_train)\n",
        "\n",
        "print(\"Best hyperparameters:\", grid_search.best_params_)\n",
        "\n",
        "best_model = grid_search.best_estimator_"
      ],
      "cell_type": "code",
      "metadata": {
        "colab": {
          "base_uri": "https://localhost:8080/"
        },
        "id": "WMaEIe9UA7jz",
        "outputId": "cde8434e-7576-4312-a25f-446400345357"
      },
      "execution_count": 16,
      "outputs": [
        {
          "output_type": "stream",
          "name": "stderr",
          "text": [
            "/usr/local/lib/python3.10/dist-packages/sklearn/model_selection/_split.py:776: UserWarning: The least populated class in y has only 4 members, which is less than n_splits=5.\n",
            "  warnings.warn(\n"
          ]
        },
        {
          "output_type": "stream",
          "name": "stdout",
          "text": [
            "Best hyperparameters: {'criterion': 'entropy', 'max_depth': None, 'min_samples_leaf': 1, 'min_samples_split': 2}\n"
          ]
        }
      ]
    },
    {
      "source": [
        "y_pred_best = best_model.predict(x_test)\n",
        "\n",
        "print(\"F1_Score:\", f1_score(y_test, y_pred_best,average='micro'))"
      ],
      "cell_type": "code",
      "metadata": {
        "colab": {
          "base_uri": "https://localhost:8080/"
        },
        "id": "y6hlzFYpEOnp",
        "outputId": "e4094f6d-48b1-47d3-a594-7a61d0798f25"
      },
      "execution_count": 17,
      "outputs": [
        {
          "output_type": "stream",
          "name": "stdout",
          "text": [
            "F1_Score: 0.9884749795523831\n"
          ]
        }
      ]
    },
    {
      "source": [
        "from sklearn.ensemble import RandomForestClassifier\n",
        "from sklearn.model_selection import GridSearchCV\n",
        "\n",
        "param_grid = {\n",
        "    'criterion': ['gini', 'entropy'],\n",
        "    'max_depth': [None, 10, 20, 30],\n",
        "    'min_samples_split': [2, 5, 10],\n",
        "    'min_samples_leaf': [1, 2, 4]\n",
        "}\n",
        "\n",
        "grid_search = GridSearchCV(estimator=RandomForestClassifier(), param_grid=param_grid, cv=5)\n",
        "grid_search.fit(x_train, y_train.values.ravel())\n",
        "\n",
        "print(\"Best hyperparameters:\", grid_search.best_params_)\n",
        "\n",
        "best_model = grid_search.best_estimator_"
      ],
      "cell_type": "code",
      "metadata": {
        "colab": {
          "base_uri": "https://localhost:8080/"
        },
        "id": "4adkqAbdE0q2",
        "outputId": "8878fe2a-d5bb-44e3-d66e-5372905ead54"
      },
      "execution_count": null,
      "outputs": [
        {
          "output_type": "stream",
          "name": "stderr",
          "text": [
            "/usr/local/lib/python3.10/dist-packages/sklearn/model_selection/_split.py:776: UserWarning: The least populated class in y has only 4 members, which is less than n_splits=5.\n",
            "  warnings.warn(\n"
          ]
        }
      ]
    },
    {
      "cell_type": "code",
      "source": [
        "test_data =pd.read_csv(\"/content/nexus-by-djs-nsdc-ultraceuticals/test.csv\")"
      ],
      "metadata": {
        "id": "dT2ZfpCBujJc"
      },
      "execution_count": null,
      "outputs": []
    },
    {
      "cell_type": "code",
      "source": [
        "final_encoded_cols=encoder.transform(test_data[input_cols])"
      ],
      "metadata": {
        "id": "X4ZAKkQ7HeFu"
      },
      "execution_count": null,
      "outputs": []
    },
    {
      "cell_type": "code",
      "source": [
        "final_predictions = adaboost_model.predict(final_encoded_cols)"
      ],
      "metadata": {
        "id": "Npol52gOG_kw"
      },
      "execution_count": null,
      "outputs": []
    },
    {
      "cell_type": "code",
      "source": [
        "predictions_df = pd.DataFrame({'ID': test_data['ID'], 'Prediction': final_predictions})"
      ],
      "metadata": {
        "id": "djjPY1dTHvZz"
      },
      "execution_count": null,
      "outputs": []
    },
    {
      "cell_type": "code",
      "source": [
        "predictions_df.head()"
      ],
      "metadata": {
        "id": "MScoG7eDIa5q"
      },
      "execution_count": null,
      "outputs": []
    },
    {
      "cell_type": "code",
      "source": [
        "predictions_df.to_csv('predictions.csv', index=False)"
      ],
      "metadata": {
        "id": "zF9SeeHZIb0f"
      },
      "execution_count": null,
      "outputs": []
    },
    {
      "cell_type": "code",
      "source": [
        "print(\"Shape of training data:\", encoded_cols.shape)\n",
        "print(\"Shape of test data:\", final_encoded_cols.shape)"
      ],
      "metadata": {
        "id": "m6P3sq36IeJ0"
      },
      "execution_count": null,
      "outputs": []
    },
    {
      "cell_type": "code",
      "source": [
        "sumbit_data = pd.read_csv(\"/content/predictions.csv\")"
      ],
      "metadata": {
        "id": "94HYXY2aI8H7"
      },
      "execution_count": null,
      "outputs": []
    },
    {
      "cell_type": "code",
      "source": [
        "print(sumbit_data[sumbit_data.duplicated(['ID'])])"
      ],
      "metadata": {
        "id": "s9fvkRUWKRSu"
      },
      "execution_count": null,
      "outputs": []
    },
    {
      "cell_type": "code",
      "source": [
        "sumbit_data.drop_duplicates(subset=['ID'], keep='first', inplace = True)"
      ],
      "metadata": {
        "id": "8esAadROKRVT"
      },
      "execution_count": null,
      "outputs": []
    },
    {
      "cell_type": "code",
      "source": [
        "sumbit_data"
      ],
      "metadata": {
        "id": "eIQVdS-NKRX6"
      },
      "execution_count": null,
      "outputs": []
    },
    {
      "cell_type": "code",
      "source": [
        "sumbit_data.to_csv('submission.csv', index=False)"
      ],
      "metadata": {
        "id": "A1l7nP-gKRam"
      },
      "execution_count": null,
      "outputs": []
    },
    {
      "cell_type": "code",
      "source": [],
      "metadata": {
        "id": "fTrl7Z1AKz9Q"
      },
      "execution_count": null,
      "outputs": []
    }
  ]
}